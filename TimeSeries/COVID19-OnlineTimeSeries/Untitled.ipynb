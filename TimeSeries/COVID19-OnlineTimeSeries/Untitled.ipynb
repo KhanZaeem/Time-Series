{
 "cells": [
  {
   "cell_type": "code",
   "execution_count": null,
   "metadata": {},
   "outputs": [],
   "source": [
    "# Download online dataset\n",
    "import numpy as np\n",
    "from math import sqrt\n",
    "from sklearn.metrics import mean_squared_error\n",
    "import pandas as pd\n",
    "#url = 'https://raw.githubusercontent.com/CSSEGISandData/COVID-19/master/csse_covid_19_data/csse_covid_19_time_series/time_series_19-covid-Confirmed.csv'\n",
    "url = 'https://raw.githubusercontent.com/CSSEGISandData/COVID-19/master/csse_covid_19_data/csse_covid_19_time_series/time_series_19-covid-Confirmed.csv'\n",
    "confirmed = pd.read_csv(url, error_bad_lines=False)\n",
    "url = 'https://raw.githubusercontent.com/CSSEGISandData/COVID-19/master/csse_covid_19_data/csse_covid_19_time_series/time_series_19-covid-Deaths.csv'\n",
    "death = pd.read_csv(url, error_bad_lines=False)\n",
    "url = 'https://raw.githubusercontent.com/CSSEGISandData/COVID-19/master/csse_covid_19_data/csse_covid_19_time_series/time_series_19-covid-Recovered.csv'\n",
    "recover = pd.read_csv(url, error_bad_lines=False)\n",
    "\n",
    "# Fix Region names\n",
    "confirmed['Country/Region']= confirmed['Country/Region'].str.replace(\"Mainland China\", \"China\")\n",
    "confirmed['Country/Region']= confirmed['Country/Region'].str.replace(\"US\", \"Unites States\")\n",
    "death['Country/Region']= death['Country/Region'].str.replace(\"Mainland China\", \"China\")\n",
    "death['Country/Region']= death['Country/Region'].str.replace(\"US\", \"Unites States\")\n",
    "recover['Country/Region']= recover['Country/Region'].str.replace(\"Mainland China\", \"China\")\n",
    "recover['Country/Region']= recover['Country/Region'].str.replace(\"US\", \"Unites States\")\n",
    "print(confirmed.iloc[:5,:])\n"
   ]
  }
 ],
 "metadata": {
  "kernelspec": {
   "display_name": "Python 3",
   "language": "python",
   "name": "python3"
  },
  "language_info": {
   "codemirror_mode": {
    "name": "ipython",
    "version": 3
   },
   "file_extension": ".py",
   "mimetype": "text/x-python",
   "name": "python",
   "nbconvert_exporter": "python",
   "pygments_lexer": "ipython3",
   "version": "3.7.4"
  }
 },
 "nbformat": 4,
 "nbformat_minor": 2
}
